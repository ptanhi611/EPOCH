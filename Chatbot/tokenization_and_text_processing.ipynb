{
 "cells": [
  {
   "cell_type": "code",
   "execution_count": null,
   "id": "3cf1a449",
   "metadata": {},
   "outputs": [],
   "source": []
  },
  {
   "cell_type": "code",
   "execution_count": 1,
   "id": "471d0142",
   "metadata": {},
   "outputs": [
    {
     "name": "stderr",
     "output_type": "stream",
     "text": [
      "  ERROR: Command errored out with exit status 1:\n",
      "   command: 'C:\\Users\\RISHIT\\miniconda3\\python.exe' 'C:\\Users\\RISHIT\\miniconda3\\lib\\site-packages\\pip' install --ignore-installed --no-user --prefix 'C:\\Users\\RISHIT\\AppData\\Local\\Temp\\pip-build-env-7eekyvca\\overlay' --no-warn-script-location --no-binary :none: --only-binary :none: -i https://pypi.org/simple -- setuptools 'cython>=0.25,<3.0' 'cymem>=2.0.2,<2.1.0' 'preshed>=3.0.2,<3.1.0' 'murmurhash>=0.28.0,<1.1.0' 'thinc>=8.3.0,<8.4.0' 'numpy>=2.0.0,<2.1.0; python_version < '\"'\"'3.9'\"'\"'' 'numpy>=2.0.0,<2.1.0; python_version >= '\"'\"'3.9'\"'\"''\n",
      "       cwd: None\n",
      "  Complete output (72 lines):\n",
      "  Ignoring numpy: markers 'python_version >= \"3.9\"' don't match your environment\n",
      "  Collecting setuptools\n",
      "    Downloading setuptools-75.3.2-py3-none-any.whl (1.3 MB)\n",
      "  Collecting cython<3.0,>=0.25\n",
      "    Downloading Cython-0.29.37-py2.py3-none-any.whl (989 kB)\n",
      "  Collecting cymem<2.1.0,>=2.0.2\n",
      "    Downloading cymem-2.0.11.tar.gz (10 kB)\n",
      "    Installing build dependencies: started\n",
      "    Installing build dependencies: finished with status 'done'\n",
      "    Getting requirements to build wheel: started\n",
      "    Getting requirements to build wheel: finished with status 'done'\n",
      "      Preparing wheel metadata: started\n",
      "      Preparing wheel metadata: finished with status 'done'\n",
      "  Collecting preshed<3.1.0,>=3.0.2\n",
      "    Downloading preshed-3.0.9-cp38-cp38-win_amd64.whl (122 kB)\n",
      "  Collecting murmurhash<1.1.0,>=0.28.0\n",
      "    Downloading murmurhash-1.0.12.tar.gz (13 kB)\n",
      "    Installing build dependencies: started\n",
      "    Installing build dependencies: finished with status 'done'\n",
      "    Getting requirements to build wheel: started\n",
      "    Getting requirements to build wheel: finished with status 'done'\n",
      "      Preparing wheel metadata: started\n",
      "      Preparing wheel metadata: finished with status 'done'\n",
      "  Collecting thinc<8.4.0,>=8.3.0\n",
      "    Downloading thinc-8.3.2.tar.gz (193 kB)\n",
      "    Installing build dependencies: started\n",
      "    Installing build dependencies: finished with status 'error'\n",
      "    ERROR: Command errored out with exit status 1:\n",
      "     command: 'C:\\Users\\RISHIT\\miniconda3\\python.exe' 'C:\\Users\\RISHIT\\miniconda3\\lib\\site-packages\\pip' install --ignore-installed --no-user --prefix 'C:\\Users\\RISHIT\\AppData\\Local\\Temp\\pip-build-env-_c5v95w6\\overlay' --no-warn-script-location --no-binary :none: --only-binary :none: -i https://pypi.org/simple -- setuptools 'cython>=0.25,<3.0' 'murmurhash>=1.0.2,<1.1.0' 'cymem>=2.0.2,<2.1.0' 'preshed>=3.0.2,<3.1.0' 'blis>=1.0.0,<1.1.0' 'numpy>=2.0.0,<2.1.0; python_version < '\"'\"'3.9'\"'\"'' 'numpy>=2.0.0,<2.1.0; python_version >= '\"'\"'3.9'\"'\"''\n",
      "         cwd: None\n",
      "    Complete output (39 lines):\n",
      "    Ignoring numpy: markers 'python_version >= \"3.9\"' don't match your environment\n",
      "    Collecting setuptools\n",
      "      Using cached setuptools-75.3.2-py3-none-any.whl (1.3 MB)\n",
      "    Collecting cython<3.0,>=0.25\n",
      "      Using cached Cython-0.29.37-py2.py3-none-any.whl (989 kB)\n",
      "    Collecting murmurhash<1.1.0,>=1.0.2\n",
      "      Using cached murmurhash-1.0.12.tar.gz (13 kB)\n",
      "      Installing build dependencies: started\n",
      "      Installing build dependencies: finished with status 'done'\n",
      "      Getting requirements to build wheel: started\n",
      "      Getting requirements to build wheel: finished with status 'done'\n",
      "        Preparing wheel metadata: started\n",
      "        Preparing wheel metadata: finished with status 'done'\n",
      "    Collecting cymem<2.1.0,>=2.0.2\n",
      "      Using cached cymem-2.0.11.tar.gz (10 kB)\n",
      "      Installing build dependencies: started\n",
      "      Installing build dependencies: finished with status 'done'\n",
      "      Getting requirements to build wheel: started\n",
      "      Getting requirements to build wheel: finished with status 'done'\n",
      "        Preparing wheel metadata: started\n",
      "        Preparing wheel metadata: finished with status 'done'\n",
      "    Collecting preshed<3.1.0,>=3.0.2\n",
      "      Using cached preshed-3.0.9-cp38-cp38-win_amd64.whl (122 kB)\n",
      "    Collecting blis<1.1.0,>=1.0.0\n",
      "      Downloading blis-1.0.2.tar.gz (3.6 MB)\n",
      "      Installing build dependencies: started\n",
      "      Installing build dependencies: finished with status 'error'\n",
      "      ERROR: Command errored out with exit status 1:\n",
      "       command: 'C:\\Users\\RISHIT\\miniconda3\\python.exe' 'C:\\Users\\RISHIT\\miniconda3\\lib\\site-packages\\pip' install --ignore-installed --no-user --prefix 'C:\\Users\\RISHIT\\AppData\\Local\\Temp\\pip-build-env-oimkn2c7\\overlay' --no-warn-script-location --no-binary :none: --only-binary :none: -i https://pypi.org/simple -- setuptools 'cython>=0.25' 'numpy>=2.0.0,<3.0.0'\n",
      "           cwd: None\n",
      "      Complete output (6 lines):\n",
      "      Collecting setuptools\n",
      "        Using cached setuptools-75.3.2-py3-none-any.whl (1.3 MB)\n",
      "      Collecting cython>=0.25\n",
      "        Using cached Cython-3.0.12-cp38-cp38-win_amd64.whl (2.8 MB)\n",
      "      ERROR: Could not find a version that satisfies the requirement numpy<3.0.0,>=2.0.0 (from versions: 1.3.0, 1.4.1, 1.5.0, 1.5.1, 1.6.0, 1.6.1, 1.6.2, 1.7.0, 1.7.1, 1.7.2, 1.8.0, 1.8.1, 1.8.2, 1.9.0, 1.9.1, 1.9.2, 1.9.3, 1.10.0.post2, 1.10.1, 1.10.2, 1.10.4, 1.11.0, 1.11.1, 1.11.2, 1.11.3, 1.12.0, 1.12.1, 1.13.0, 1.13.1, 1.13.3, 1.14.0, 1.14.1, 1.14.2, 1.14.3, 1.14.4, 1.14.5, 1.14.6, 1.15.0, 1.15.1, 1.15.2, 1.15.3, 1.15.4, 1.16.0, 1.16.1, 1.16.2, 1.16.3, 1.16.4, 1.16.5, 1.16.6, 1.17.0, 1.17.1, 1.17.2, 1.17.3, 1.17.4, 1.17.5, 1.18.0, 1.18.1, 1.18.2, 1.18.3, 1.18.4, 1.18.5, 1.19.0, 1.19.1, 1.19.2, 1.19.3, 1.19.4, 1.19.5, 1.20.0, 1.20.1, 1.20.2, 1.20.3, 1.21.0, 1.21.1, 1.21.2, 1.21.3, 1.21.4, 1.21.5, 1.21.6, 1.22.0, 1.22.1, 1.22.2, 1.22.3, 1.22.4, 1.23.0, 1.23.1, 1.23.2, 1.23.3, 1.23.4, 1.23.5, 1.24.0, 1.24.1, 1.24.2, 1.24.3, 1.24.4)\n",
      "      ERROR: No matching distribution found for numpy<3.0.0,>=2.0.0\n",
      "      ----------------------------------------\n",
      "    ERROR: Command errored out with exit status 1: 'C:\\Users\\RISHIT\\miniconda3\\python.exe' 'C:\\Users\\RISHIT\\miniconda3\\lib\\site-packages\\pip' install --ignore-installed --no-user --prefix 'C:\\Users\\RISHIT\\AppData\\Local\\Temp\\pip-build-env-oimkn2c7\\overlay' --no-warn-script-location --no-binary :none: --only-binary :none: -i https://pypi.org/simple -- setuptools 'cython>=0.25' 'numpy>=2.0.0,<3.0.0' Check the logs for full command output.\n",
      "    ----------------------------------------\n",
      "  ERROR: Command errored out with exit status 1: 'C:\\Users\\RISHIT\\miniconda3\\python.exe' 'C:\\Users\\RISHIT\\miniconda3\\lib\\site-packages\\pip' install --ignore-installed --no-user --prefix 'C:\\Users\\RISHIT\\AppData\\Local\\Temp\\pip-build-env-_c5v95w6\\overlay' --no-warn-script-location --no-binary :none: --only-binary :none: -i https://pypi.org/simple -- setuptools 'cython>=0.25,<3.0' 'murmurhash>=1.0.2,<1.1.0' 'cymem>=2.0.2,<2.1.0' 'preshed>=3.0.2,<3.1.0' 'blis>=1.0.0,<1.1.0' 'numpy>=2.0.0,<2.1.0; python_version < '\"'\"'3.9'\"'\"'' 'numpy>=2.0.0,<2.1.0; python_version >= '\"'\"'3.9'\"'\"'' Check the logs for full command output.\n",
      "  ----------------------------------------\n",
      "ERROR: Command errored out with exit status 1: 'C:\\Users\\RISHIT\\miniconda3\\python.exe' 'C:\\Users\\RISHIT\\miniconda3\\lib\\site-packages\\pip' install --ignore-installed --no-user --prefix 'C:\\Users\\RISHIT\\AppData\\Local\\Temp\\pip-build-env-7eekyvca\\overlay' --no-warn-script-location --no-binary :none: --only-binary :none: -i https://pypi.org/simple -- setuptools 'cython>=0.25,<3.0' 'cymem>=2.0.2,<2.1.0' 'preshed>=3.0.2,<3.1.0' 'murmurhash>=0.28.0,<1.1.0' 'thinc>=8.3.0,<8.4.0' 'numpy>=2.0.0,<2.1.0; python_version < '\"'\"'3.9'\"'\"'' 'numpy>=2.0.0,<2.1.0; python_version >= '\"'\"'3.9'\"'\"'' Check the logs for full command output.\n"
     ]
    },
    {
     "name": "stdout",
     "output_type": "stream",
     "text": [
      "Collecting transformers\n",
      "  Downloading transformers-4.46.3-py3-none-any.whl (10.0 MB)\n",
      "Collecting spacy\n",
      "  Downloading spacy-3.8.2.tar.gz (1.3 MB)\n",
      "  Installing build dependencies: started\n",
      "  Installing build dependencies: still running...\n",
      "  Installing build dependencies: finished with status 'error'\n"
     ]
    }
   ],
   "source": [
    "!pip install transformers spacy torch"
   ]
  },
  {
   "cell_type": "code",
   "execution_count": null,
   "id": "28112a19",
   "metadata": {},
   "outputs": [],
   "source": []
  }
 ],
 "metadata": {
  "kernelspec": {
   "display_name": "base",
   "language": "python",
   "name": "python3"
  },
  "language_info": {
   "codemirror_mode": {
    "name": "ipython",
    "version": 3
   },
   "file_extension": ".py",
   "mimetype": "text/x-python",
   "name": "python",
   "nbconvert_exporter": "python",
   "pygments_lexer": "ipython3",
   "version": "3.8.3"
  }
 },
 "nbformat": 4,
 "nbformat_minor": 5
}
