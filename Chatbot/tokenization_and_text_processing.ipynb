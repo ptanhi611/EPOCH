{
 "cells": [
  {
   "cell_type": "code",
   "execution_count": null,
   "id": "3a837eb9",
   "metadata": {},
   "outputs": [],
   "source": [
    "import torch\n",
    "import transformers\n",
    "import spacy"
   ]
  },
  {
   "cell_type": "code",
   "execution_count": null,
   "id": "a1f6c48c",
   "metadata": {},
   "outputs": [],
   "source": [
    "nlp = spacy.load(\"en_core_web_lg\")\n",
    "text = \"This notebook implements a `Node` class that represents values in a computational graph, supports element-wise arithmetic operations, and performs automatic differentiation using backpropagation.\"\n",
    "\n",
    "doc = nlp(text)\n",
    "\n",
    "for token in doc:\n",
    "    print(f\"Text: {token.text}, POS: {token.pos_}, Lemma: {token.lemma_}\")"
   ]
  },
  {
   "cell_type": "code",
   "execution_count": null,
   "id": "ec0dde73",
   "metadata": {},
   "outputs": [],
   "source": [
    "def preprocessing_text(text):\n",
    "    text = text.lower()\n",
    "    doc = nlp(text)\n",
    "\n",
    "    tokens = [token.text for token in doc if not token.is_stop and not token.is_punct ]\n",
    "\n",
    "    return \" \".join(tokens)"
   ]
  },
  {
   "cell_type": "code",
   "execution_count": 20,
   "id": "11ede634",
   "metadata": {},
   "outputs": [
    {
     "name": "stdout",
     "output_type": "stream",
     "text": [
      "this is normal text:\n",
      "This notebook implements a `Node` class that represents values in a computational graph, supports element-wise arithmetic operations, and performs automatic differentiation using backpropagation.\n",
      "\n",
      "this is preprocessed text:\n"
     ]
    },
    {
     "data": {
      "text/plain": [
       "'notebook implements ` node ` class represents values computational graph supports element wise arithmetic operations performs automatic differentiation backpropagation'"
      ]
     },
     "execution_count": 20,
     "metadata": {},
     "output_type": "execute_result"
    }
   ],
   "source": [
    "print(\"this is normal text:\")\n",
    "print(text)\n",
    "print()\n",
    "print(\"this is preprocessed text:\")\n",
    "preprocessing_text(text)"
   ]
  },
  {
   "cell_type": "code",
   "execution_count": null,
   "id": "30e6766b",
   "metadata": {},
   "outputs": [],
   "source": []
  }
 ],
 "metadata": {
  "kernelspec": {
   "display_name": "base",
   "language": "python",
   "name": "python3"
  },
  "language_info": {
   "codemirror_mode": {
    "name": "ipython",
    "version": 3
   },
   "file_extension": ".py",
   "mimetype": "text/x-python",
   "name": "python",
   "nbconvert_exporter": "python",
   "pygments_lexer": "ipython3",
   "version": "3.8.3"
  }
 },
 "nbformat": 4,
 "nbformat_minor": 5
}
